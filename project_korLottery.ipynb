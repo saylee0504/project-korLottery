{
 "cells": [
  {
   "cell_type": "markdown",
   "metadata": {},
   "source": [
    "<h1> Package Import</h1>"
   ]
  },
  {
   "cell_type": "code",
   "execution_count": 2,
   "metadata": {},
   "outputs": [],
   "source": [
    "import requests; import json; import random; import openpyxl; import xlwt\n",
    "import numpy as np; import pandas as pd; import matplotlib.pylab as plt"
   ]
  },
  {
   "cell_type": "markdown",
   "metadata": {},
   "source": [
    "<h1> Functions </h1>"
   ]
  },
  {
   "cell_type": "code",
   "execution_count": 3,
   "metadata": {},
   "outputs": [],
   "source": [
    "def DB_CONNECT(i):\n",
    "    url = 'https://www.dhlottery.co.kr/common.do?method=getLottoNumber&drwNo=' + str(i)\n",
    "    res = requests.get(url)\n",
    "    connection = res.json()\n",
    "    return connection\n",
    "\n",
    "def DF_LOTTERY(number_lotteryCount):\n",
    "    lottos_dics = {}\n",
    "    totSellamnt, firstAccumamnt, firstWinamnt, firstPrzwnerCo = [], [], [], []\n",
    "    drwtNo1, drwtNo2, drwtNo3, drwtNo4, drwtNo5, drwtNo6, bnusNo = [], [], [], [], [], [], []\n",
    "    \n",
    "    for i in range(1, number_lotteryCount+1):\n",
    "        connection = DB_CONNECT(i)\n",
    "        totSellamnt.append(connection['totSellamnt'])\n",
    "        firstAccumamnt.append(connection['firstAccumamnt'])\n",
    "        firstWinamnt.append(connection['firstWinamnt'])\n",
    "        firstPrzwnerCo.append(connection['firstPrzwnerCo'])\n",
    "        drwtNo1.append(connection['drwtNo1'])\n",
    "        drwtNo2.append(connection['drwtNo2'])\n",
    "        drwtNo3.append(connection['drwtNo3'])\n",
    "        drwtNo4.append(connection['drwtNo4'])\n",
    "        drwtNo5.append(connection['drwtNo5'])\n",
    "        drwtNo6.append(connection['drwtNo6'])\n",
    "        bnusNo.append(connection['bnusNo'])\n",
    "        lottos_dics = {'totSellamnt': totSellamnt, 'firstAccumamnt': firstAccumamnt, 'firstWinamnt': firstWinamnt, 'firstPrzwnerCo':firstPrzwnerCo, 'drwtNo1': drwtNo1, 'drwtNo2': drwtNo2, 'drwtNo3': drwtNo3, 'drwtNo4': drwtNo4, 'drwtNo5': drwtNo5, 'drwtNo6': drwtNo6, 'bnusNo': bnusNo}\n",
    "    \n",
    "    DF_LOTTERY = pd.DataFrame(lottos_dics)\n",
    "    return DF_LOTTERY\n",
    "\n",
    "def DF_RANDOM(number_avgsaleVolume):\n",
    "    def GENERATE_RANDOM_LOTTERY(number_avgsaleVolume):\n",
    "        for _ in range(number_avgsaleVolume):\n",
    "            number_random = sorted(random.sample(range(1, 46), 6))\n",
    "            number_bnus = random.choice(list(set(range(1, 46)) - set(number_random)))\n",
    "            yield number_random + [number_bnus]\n",
    "    DF_RANDOM = pd.DataFrame(GENERATE_RANDOM_LOTTERY(number_avgsaleVolume), columns = ['drwtNo1','drwtNo2','drwtNo3','drwtNo4','drwtNo5','drwtNo6','bnusNo'])\n",
    "    return DF_RANDOM\n",
    "\n",
    "def AVERAGE_GAMECOUNT(df_input):\n",
    "    average_saleAmnt = df_input['totSellamnt'].mean()\n",
    "    average_gameCount = int(average_saleAmnt/1000)\n",
    "    print('Average Sales Volume : {:,.0f}'.format(average_gameCount))\n",
    "    return average_gameCount\n",
    "    \n",
    "def STATISTICS_NUMBERINFO(df_input):\n",
    "    count_row, count_col = df_input.shape[0], df_input.shape[1]\n",
    "    df_numberInfo = pd.DataFrame(np.zeros((1, 45)), columns = range(1, 46), index = ['Frequency'])\n",
    "    for i in range(0, count_row):\n",
    "        for j in range(1, 46):\n",
    "            if df_input.iloc[i]['drwtNo1'] == j: df_numberInfo[j] += 1\n",
    "            elif df_input.iloc[i]['drwtNo2'] == j: df_numberInfo[j] += 1\n",
    "            elif df_input.iloc[i]['drwtNo3'] == j: df_numberInfo[j] += 1\n",
    "            elif df_input.iloc[i]['drwtNo4'] == j: df_numberInfo[j] += 1\n",
    "            elif df_input.iloc[i]['drwtNo5'] == j: df_numberInfo[j] += 1\n",
    "            elif df_input.iloc[i]['drwtNo6'] == j: df_numberInfo[j] += 1\n",
    "            elif df_input.iloc[i]['bnusNo'] == j: df_numberInfo[j] += 1\n",
    "    return df_numberInfo\n",
    "\n",
    "def STATISTIC_DATAINFO(df_input):\n",
    "    def DIC_CONVERT(df_input, name_var):\n",
    "        mean, std, min, q1, median, q3, max = df_input[name_var].mean(), df_input[name_var].std(), df_input[name_var].min(), df_input[name_var].quantile(0.25), df_input[name_var].median(), df_input[name_var].quantile(0.75), df_input[name_var].max()\n",
    "        dic_function = {'mean' : '{:,.3f}'.format(mean), 'standard deviation' : '{:,.3f}'.format(std), 'min' : '{:,.0f}'.format(min), 'Q1' : '{:,.0f}'.format(q1), 'median' : '{:,.0f}'.format(median), 'Q3' : '{:,.0f}'.format(q3), 'max' : '{:,.0f}'.format(max)}\n",
    "        return dic_function\n",
    "    df_return = pd.DataFrame()\n",
    "    col_datainfo = ['totSellamnt', 'firstAccumamnt', 'firstWinamnt', 'firstPrzwnerCo']\n",
    "    for col in col_datainfo:\n",
    "        df_store = pd.DataFrame(DIC_CONVERT(df_input, col), index = [col])\n",
    "        df_return = pd.concat([df_return, df_store], ignore_index = False)\n",
    "    df_datainfo = df_return.transpose()\n",
    "    return df_datainfo\n",
    "\n",
    "def RECOMMEND_NUMBER_FROM_RANDOM(df_lottery, df_random):\n",
    "    def REMOVE_DUPLICATE_WITH_LOTTERY(df_lottery, df_random):\n",
    "        df_lottery_dupCheck = df_lottery.copy().drop(columns = ['totSellamnt', 'firstAccumamnt', 'firstWinamnt', 'firstPrzwnerCo'])\n",
    "        tuple_dupCheck = set(map(tuple, df_lottery_dupCheck.values))\n",
    "        df_random['is_duplicate'] = df_random.apply(lambda row : tuple(row.values) in tuple_dupCheck, axis = 1)\n",
    "\n",
    "        df_random = df_random[~df_random['is_duplicate']]\n",
    "        df_random.drop(columns = ['is_duplicate'], inplace = True)\n",
    "        return df_random\n",
    "    def COUNT_DUPLICATE_AMONG_RANDOM(df_random):\n",
    "        df_random_analysis = df_random.copy()\n",
    "        df_random_analysis['count'] = 0\n",
    "        dict_count = {}\n",
    "        for i, row in df_random_analysis.iterrows():\n",
    "            row_tuple = tuple(row)\n",
    "            if row_tuple in dict_count: dict_count[row_tuple] += 1\n",
    "            else: dict_count[row_tuple] = 1\n",
    "            df_random_analysis.at[i, 'count'] = dict_count[row_tuple] - 1\n",
    "        df_random_analysis_dupCount = df_random_analysis.sort_values(by = 'count', ascending = True)\n",
    "        \n",
    "        return df_random_analysis_dupCount\n",
    "\n",
    "    random_remove_dup_with_Lottery = REMOVE_DUPLICATE_WITH_LOTTERY(df_lottery, df_random)\n",
    "    random_count_dup_among_random = COUNT_DUPLICATE_AMONG_RANDOM(random_remove_dup_with_Lottery)\n",
    "    random_dupCount_0 = random_count_dup_among_random[random_count_dup_among_random['count'] == 0.0]\n",
    "    random_dupCount_no0 = random_count_dup_among_random[random_count_dup_among_random['count'] != 0.0]\n",
    "    \n",
    "    return random_dupCount_0, random_dupCount_no0"
   ]
  },
  {
   "cell_type": "markdown",
   "metadata": {},
   "source": [
    "<h2> Initialize Lottery Data Set </h2>\n",
    "number = 로또 회차 입력 (전 주 회차)\n",
    "average_saleVolume = 전 주까지 평균 판매액 / 1000 => 전 주까지 평균 판매 게임"
   ]
  },
  {
   "cell_type": "code",
   "execution_count": 4,
   "metadata": {},
   "outputs": [],
   "source": [
    "number = 1113"
   ]
  },
  {
   "cell_type": "code",
   "execution_count": 5,
   "metadata": {},
   "outputs": [
    {
     "name": "stdout",
     "output_type": "stream",
     "text": [
      "Average Sales Volume : 67,110,768\n"
     ]
    },
    {
     "name": "stderr",
     "output_type": "stream",
     "text": [
      "/var/folders/5p/v2x2x94x4z1bzq3vb084rzbc0000gn/T/ipykernel_2467/122730688.py:79: SettingWithCopyWarning: \n",
      "A value is trying to be set on a copy of a slice from a DataFrame\n",
      "\n",
      "See the caveats in the documentation: https://pandas.pydata.org/pandas-docs/stable/user_guide/indexing.html#returning-a-view-versus-a-copy\n",
      "  df_random.drop(columns = ['is_duplicate'], inplace = True)\n"
     ]
    }
   ],
   "source": [
    "df_lottery = DF_LOTTERY(number)\n",
    "\n",
    "df_numberInfo = STATISTICS_NUMBERINFO(df_lottery)\n",
    "df_dataInfo = STATISTIC_DATAINFO(df_lottery)\n",
    "\n",
    "average_gameCount = AVERAGE_GAMECOUNT(df_lottery)\n",
    "df_random = DF_RANDOM(average_gameCount)\n",
    "\n",
    "df_random_dupCount_0, df_random_dupCount_no0 = RECOMMEND_NUMBER_FROM_RANDOM(df_lottery, df_random)"
   ]
  },
  {
   "cell_type": "markdown",
   "metadata": {},
   "source": [
    "<h2> Statistics of Lottery </h2>"
   ]
  },
  {
   "cell_type": "code",
   "execution_count": 6,
   "metadata": {},
   "outputs": [
    {
     "data": {
      "text/html": [
       "<div>\n",
       "<style scoped>\n",
       "    .dataframe tbody tr th:only-of-type {\n",
       "        vertical-align: middle;\n",
       "    }\n",
       "\n",
       "    .dataframe tbody tr th {\n",
       "        vertical-align: top;\n",
       "    }\n",
       "\n",
       "    .dataframe thead th {\n",
       "        text-align: right;\n",
       "    }\n",
       "</style>\n",
       "<table border=\"1\" class=\"dataframe\">\n",
       "  <thead>\n",
       "    <tr style=\"text-align: right;\">\n",
       "      <th></th>\n",
       "      <th>1</th>\n",
       "      <th>2</th>\n",
       "      <th>3</th>\n",
       "      <th>4</th>\n",
       "      <th>5</th>\n",
       "      <th>6</th>\n",
       "      <th>7</th>\n",
       "      <th>8</th>\n",
       "      <th>9</th>\n",
       "      <th>10</th>\n",
       "      <th>...</th>\n",
       "      <th>36</th>\n",
       "      <th>37</th>\n",
       "      <th>38</th>\n",
       "      <th>39</th>\n",
       "      <th>40</th>\n",
       "      <th>41</th>\n",
       "      <th>42</th>\n",
       "      <th>43</th>\n",
       "      <th>44</th>\n",
       "      <th>45</th>\n",
       "    </tr>\n",
       "  </thead>\n",
       "  <tbody>\n",
       "    <tr>\n",
       "      <th>Frequency</th>\n",
       "      <td>185.0</td>\n",
       "      <td>174.0</td>\n",
       "      <td>177.0</td>\n",
       "      <td>181.0</td>\n",
       "      <td>162.0</td>\n",
       "      <td>177.0</td>\n",
       "      <td>177.0</td>\n",
       "      <td>162.0</td>\n",
       "      <td>140.0</td>\n",
       "      <td>175.0</td>\n",
       "      <td>...</td>\n",
       "      <td>173.0</td>\n",
       "      <td>177.0</td>\n",
       "      <td>177.0</td>\n",
       "      <td>177.0</td>\n",
       "      <td>180.0</td>\n",
       "      <td>154.0</td>\n",
       "      <td>167.0</td>\n",
       "      <td>192.0</td>\n",
       "      <td>174.0</td>\n",
       "      <td>178.0</td>\n",
       "    </tr>\n",
       "  </tbody>\n",
       "</table>\n",
       "<p>1 rows × 45 columns</p>\n",
       "</div>"
      ],
      "text/plain": [
       "              1      2      3      4      5      6      7      8      9   \\\n",
       "Frequency  185.0  174.0  177.0  181.0  162.0  177.0  177.0  162.0  140.0   \n",
       "\n",
       "              10  ...     36     37     38     39     40     41     42     43  \\\n",
       "Frequency  175.0  ...  173.0  177.0  177.0  177.0  180.0  154.0  167.0  192.0   \n",
       "\n",
       "              44     45  \n",
       "Frequency  174.0  178.0  \n",
       "\n",
       "[1 rows x 45 columns]"
      ]
     },
     "execution_count": 6,
     "metadata": {},
     "output_type": "execute_result"
    }
   ],
   "source": [
    "df_numberInfo"
   ]
  },
  {
   "cell_type": "code",
   "execution_count": 7,
   "metadata": {},
   "outputs": [
    {
     "data": {
      "text/html": [
       "<div>\n",
       "<style scoped>\n",
       "    .dataframe tbody tr th:only-of-type {\n",
       "        vertical-align: middle;\n",
       "    }\n",
       "\n",
       "    .dataframe tbody tr th {\n",
       "        vertical-align: top;\n",
       "    }\n",
       "\n",
       "    .dataframe thead th {\n",
       "        text-align: right;\n",
       "    }\n",
       "</style>\n",
       "<table border=\"1\" class=\"dataframe\">\n",
       "  <thead>\n",
       "    <tr style=\"text-align: right;\">\n",
       "      <th></th>\n",
       "      <th>totSellamnt</th>\n",
       "      <th>firstAccumamnt</th>\n",
       "      <th>firstWinamnt</th>\n",
       "      <th>firstPrzwnerCo</th>\n",
       "    </tr>\n",
       "  </thead>\n",
       "  <tbody>\n",
       "    <tr>\n",
       "      <th>mean</th>\n",
       "      <td>67,110,768,286.613</td>\n",
       "      <td>12,809,133,802.927</td>\n",
       "      <td>2,687,568,924.446</td>\n",
       "      <td>7.817</td>\n",
       "    </tr>\n",
       "    <tr>\n",
       "      <th>standard deviation</th>\n",
       "      <td>22,283,753,149.394</td>\n",
       "      <td>8,773,485,875.016</td>\n",
       "      <td>2,441,747,295.935</td>\n",
       "      <td>4.418</td>\n",
       "    </tr>\n",
       "    <tr>\n",
       "      <th>min</th>\n",
       "      <td>3,681,782,000</td>\n",
       "      <td>0</td>\n",
       "      <td>0</td>\n",
       "      <td>0</td>\n",
       "    </tr>\n",
       "    <tr>\n",
       "      <th>Q1</th>\n",
       "      <td>49,582,758,000</td>\n",
       "      <td>0</td>\n",
       "      <td>1,558,378,334</td>\n",
       "      <td>5</td>\n",
       "    </tr>\n",
       "    <tr>\n",
       "      <th>median</th>\n",
       "      <td>60,983,308,000</td>\n",
       "      <td>13,759,405,875</td>\n",
       "      <td>2,077,279,594</td>\n",
       "      <td>7</td>\n",
       "    </tr>\n",
       "    <tr>\n",
       "      <th>Q3</th>\n",
       "      <td>80,933,117,000</td>\n",
       "      <td>18,976,489,128</td>\n",
       "      <td>3,051,105,610</td>\n",
       "      <td>10</td>\n",
       "    </tr>\n",
       "    <tr>\n",
       "      <th>max</th>\n",
       "      <td>260,856,392,000</td>\n",
       "      <td>43,624,374,375</td>\n",
       "      <td>40,722,959,400</td>\n",
       "      <td>50</td>\n",
       "    </tr>\n",
       "  </tbody>\n",
       "</table>\n",
       "</div>"
      ],
      "text/plain": [
       "                           totSellamnt      firstAccumamnt       firstWinamnt  \\\n",
       "mean                67,110,768,286.613  12,809,133,802.927  2,687,568,924.446   \n",
       "standard deviation  22,283,753,149.394   8,773,485,875.016  2,441,747,295.935   \n",
       "min                      3,681,782,000                   0                  0   \n",
       "Q1                      49,582,758,000                   0      1,558,378,334   \n",
       "median                  60,983,308,000      13,759,405,875      2,077,279,594   \n",
       "Q3                      80,933,117,000      18,976,489,128      3,051,105,610   \n",
       "max                    260,856,392,000      43,624,374,375     40,722,959,400   \n",
       "\n",
       "                   firstPrzwnerCo  \n",
       "mean                        7.817  \n",
       "standard deviation          4.418  \n",
       "min                             0  \n",
       "Q1                              5  \n",
       "median                          7  \n",
       "Q3                             10  \n",
       "max                            50  "
      ]
     },
     "execution_count": 7,
     "metadata": {},
     "output_type": "execute_result"
    }
   ],
   "source": [
    "df_dataInfo"
   ]
  },
  {
   "cell_type": "markdown",
   "metadata": {},
   "source": [
    "<h2> Random Generation Results </h2>"
   ]
  },
  {
   "cell_type": "code",
   "execution_count": 12,
   "metadata": {},
   "outputs": [
    {
     "name": "stdout",
     "output_type": "stream",
     "text": [
      "(1) Shape of duplicated 0 Result : (60493684, 8)\n",
      "(2) Shape of duplicated without 0 Result : (6616848, 8)\n",
      "----------------------------------------------------------------------------------------------------\n",
      "[Duplicated Count among Random Generated Numbers] Duplicated without 0\n",
      "count\n",
      "1    6168476\n",
      "2     425104\n",
      "3      22298\n",
      "4        936\n",
      "5         33\n",
      "6          1\n",
      "Name: count, dtype: int64\n"
     ]
    }
   ],
   "source": [
    "print(f'(1) Shape of duplicated 0 Result : {df_random_dupCount_0.shape}\\n(2) Shape of duplicated without 0 Result : {df_random_dupCount_no0.shape}');print('-'*100)\n",
    "print(f'[Duplicated Count among Random Generated Numbers] Duplicated without 0\\n{df_random_dupCount_no0[\"count\"].value_counts()}')"
   ]
  },
  {
   "cell_type": "markdown",
   "metadata": {},
   "source": [
    "<h2> Recommand Number </h2>"
   ]
  },
  {
   "cell_type": "code",
   "execution_count": 17,
   "metadata": {},
   "outputs": [],
   "source": [
    "threshold = 5 # Choose the Threshold you want to rely on\n",
    "threshold_based_ = df_random_dupCount_no0[df_random_dupCount_no0['count'] == threshold]"
   ]
  },
  {
   "cell_type": "code",
   "execution_count": 19,
   "metadata": {},
   "outputs": [
    {
     "name": "stdout",
     "output_type": "stream",
     "text": [
      "          drwtNo1  drwtNo2  drwtNo3  drwtNo4  drwtNo5  drwtNo6  bnusNo  count\n",
      "47843692       10       25       26       27       30       43      28      5\n",
      "61491699        2       29       32       33       34       37      22      5\n",
      "53702856        3        6       22       23       26       42      45      5\n",
      "64373516       14       20       26       28       29       45      34      5\n",
      "64530413       17       21       32       40       42       43      38      5\n"
     ]
    }
   ],
   "source": [
    "number_recommend = threshold_based_.sample(n = 5)\n",
    "print(number_recommend)"
   ]
  }
 ],
 "metadata": {
  "kernelspec": {
   "display_name": "mkt_jupyter",
   "language": "python",
   "name": "mktscience"
  },
  "language_info": {
   "codemirror_mode": {
    "name": "ipython",
    "version": 3
   },
   "file_extension": ".py",
   "mimetype": "text/x-python",
   "name": "python",
   "nbconvert_exporter": "python",
   "pygments_lexer": "ipython3",
   "version": "3.9.16"
  }
 },
 "nbformat": 4,
 "nbformat_minor": 2
}
